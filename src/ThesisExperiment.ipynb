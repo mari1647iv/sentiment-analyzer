{
  "nbformat": 4,
  "nbformat_minor": 0,
  "metadata": {
    "colab": {
      "name": "ThesisExperiment#1.ipynb",
      "provenance": [],
      "collapsed_sections": [
        "yk0w-Rf9LKKW",
        "19TdhhqJLUAM"
      ]
    },
    "kernelspec": {
      "name": "python3",
      "display_name": "Python 3"
    },
    "language_info": {
      "name": "python"
    }
  },
  "cells": [
    {
      "cell_type": "markdown",
      "metadata": {
        "id": "OcmVKR1oZbkX"
      },
      "source": [
        "# Github comments sentiment anlysis via NLTK tool and GitHub API\n",
        "\n",
        "NLTK was developed by Bird et al. It uses multiple corpora in its development. We use an API provided in www.text-processing.com to call this tool. For each text, it also returns a sentiment label (positive/neutral/negative)."
      ]
    },
    {
      "cell_type": "markdown",
      "metadata": {
        "id": "yk0w-Rf9LKKW"
      },
      "source": [
        "# Via $curl$"
      ]
    },
    {
      "cell_type": "code",
      "metadata": {
        "id": "-U0DCidxzC1q"
      },
      "source": [
        "! curl -H 'Accept: application/vnd.github.v3+json' https://api.github.com/repos/octocat/hello-world/issues/comments"
      ],
      "execution_count": null,
      "outputs": []
    },
    {
      "cell_type": "code",
      "metadata": {
        "id": "RAFtIRZYbwlJ"
      },
      "source": [
        "! curl -d \"text=Let's try again via this awesome Issue tacker... \\n\" http://text-processing.com/api/sentiment/"
      ],
      "execution_count": null,
      "outputs": []
    },
    {
      "cell_type": "markdown",
      "metadata": {
        "id": "19TdhhqJLUAM"
      },
      "source": [
        "# Via Python $requests$ lib"
      ]
    },
    {
      "cell_type": "code",
      "metadata": {
        "colab": {
          "base_uri": "https://localhost:8080/"
        },
        "id": "6Q_ce65tzcd4",
        "outputId": "23145e50-6106-486f-d5ea-c95bf800415e"
      },
      "source": [
        "! pip install requests"
      ],
      "execution_count": null,
      "outputs": [
        {
          "output_type": "stream",
          "name": "stdout",
          "text": [
            "Requirement already satisfied: requests in /usr/local/lib/python3.7/dist-packages (2.23.0)\n",
            "Requirement already satisfied: urllib3!=1.25.0,!=1.25.1,<1.26,>=1.21.1 in /usr/local/lib/python3.7/dist-packages (from requests) (1.24.3)\n",
            "Requirement already satisfied: certifi>=2017.4.17 in /usr/local/lib/python3.7/dist-packages (from requests) (2021.10.8)\n",
            "Requirement already satisfied: chardet<4,>=3.0.2 in /usr/local/lib/python3.7/dist-packages (from requests) (3.0.4)\n",
            "Requirement already satisfied: idna<3,>=2.5 in /usr/local/lib/python3.7/dist-packages (from requests) (2.10)\n"
          ]
        }
      ]
    },
    {
      "cell_type": "code",
      "metadata": {
        "id": "Bp_nLwjE1LBv"
      },
      "source": [
        "import requests"
      ],
      "execution_count": null,
      "outputs": []
    },
    {
      "cell_type": "code",
      "metadata": {
        "id": "rK_WWVBpc2Ei",
        "colab": {
          "base_uri": "https://localhost:8080/"
        },
        "outputId": "d51de52c-c13c-4a70-c8de-e3760c701823"
      },
      "source": [
        "query = {'text':\"Let's try again via awesome Issue tacker...\\n\"}\n",
        "response = requests.post(\"http://text-processing.com/api/sentiment/\", data=query)\n",
        "print(response.json())"
      ],
      "execution_count": null,
      "outputs": [
        {
          "output_type": "stream",
          "name": "stdout",
          "text": [
            "{'probability': {'neg': 0.31451181582793397, 'neutral': 0.33122764068566357, 'pos': 0.685488184172066}, 'label': 'pos'}\n"
          ]
        }
      ]
    },
    {
      "cell_type": "markdown",
      "metadata": {
        "id": "JFWR6XCQL8ZB"
      },
      "source": [
        "# GitHub comments analysis"
      ]
    },
    {
      "cell_type": "markdown",
      "metadata": {
        "id": "I54T3r97Sq-R"
      },
      "source": [
        "Import Pyhton API library"
      ]
    },
    {
      "cell_type": "code",
      "metadata": {
        "id": "7ZCKZr5AZost"
      },
      "source": [
        "import requests"
      ],
      "execution_count": null,
      "outputs": []
    },
    {
      "cell_type": "markdown",
      "metadata": {
        "id": "gTynVGfXSy0X"
      },
      "source": [
        "Implement helping function to analyze one page of GitHub comments.\n",
        "The following parameters are used:\n",
        "\n",
        "*   $username$ - GitHub alias of the repository owner;\n",
        "*   $repo$ - GitHub repository name;\n",
        "*   $per\\_page$ - number of comments on the page (from 0 to 100);\n",
        "*   $page$ - Page number of the results to fetch;\n",
        "*   $print\\_comments$ - boolean flag. If it is set to True, each fetched comment and its analysis will be printed.\n",
        "*   $print\\_stage\\_results$ - boolean flag. If it's set to True, final statistics of the analyzed comments will be printend in the end.\n",
        "\n"
      ]
    },
    {
      "cell_type": "code",
      "metadata": {
        "id": "w8jiagjERsQ7"
      },
      "source": [
        "# using NLTK\n",
        "\n",
        "def analyze_comments_page(username, repo, per_page, page, print_comments, print_stage_results):\n",
        "  total = 0\n",
        "  pos = 0\n",
        "  neg = 0\n",
        "  neut = 0\n",
        "\n",
        "  print(\"Processing page #\"+str(page)+\"...\\n\")\n",
        "  query={'per_page': per_page, 'page': page}\n",
        "  resp = requests.get(\"https://api.github.com/repos/\"+username+\"/\"+repo+\"/issues/comments\", params=query)\n",
        "  comments = resp.json()\n",
        "\n",
        "  for comment in comments:\n",
        "    total=total+1\n",
        "    if print_comments:\n",
        "      print(str(total) + '. ' + comment.get(\"body\"))\n",
        "\n",
        "    query = {'text' : comment.get(\"body\")}\n",
        "    response = requests.post(\"http://text-processing.com/api/sentiment/\", data=query)\n",
        "    if print_comments:\n",
        "      print(response.json())\n",
        "      print('\\n')\n",
        "\n",
        "    sentiment = response.json().get(\"label\")\n",
        "    if sentiment=='pos':\n",
        "      pos=pos+1\n",
        "    elif sentiment=='neg':\n",
        "      neg=neg+1\n",
        "    else:\n",
        "      neut=neut+1\n",
        "  \n",
        "  if print_stage_results:\n",
        "    print('Processed: '+str(total))\n",
        "    print('Positive comments: '+str(pos))\n",
        "    print('Negative comments: '+str(neg))\n",
        "    print('Neutral comments: '+str(neut))\n",
        "\n",
        "  return total, pos, neg, neut"
      ],
      "execution_count": null,
      "outputs": []
    },
    {
      "cell_type": "markdown",
      "metadata": {
        "id": "DWKEkdXBVpxy"
      },
      "source": [
        "Implementation of the final function to be used. It analyzes the given number of comments in the given repository. The following parameters are used:\n",
        "\n",
        "*   $username$ - GitHub alias of the repository owner;\n",
        "*   $repo$ - GitHub repository name;\n",
        "*   $comments\\_to\\_process$ - number of comments to be fetched.\n",
        "*   $print\\_comments$ - boolean flag. If it is set to True, each fetched comment and its analysis will be printed.\n",
        "*   $print\\_stage\\_results$ - boolean flag. If it's set to True, statistics of the analyzed comments on each stage(for each fetched page) will be printend.\n",
        "\n",
        "Function returns tuple of number of fetched in total(if number of comments in repo is less than $comments\\_to\\_process$ all the available comments will be processed), positive, negative and neutral comments."
      ]
    },
    {
      "cell_type": "code",
      "metadata": {
        "id": "YlUeLqqXg-7r"
      },
      "source": [
        "def analyze_comments(username, repo, comments_to_process, print_comments, print_stage_results):\n",
        "  total = 0\n",
        "  pos = 0\n",
        "  neg = 0\n",
        "  neut = 0\n",
        "  page = 1\n",
        "  temp = comments_to_process\n",
        "\n",
        "  while True:\n",
        "    if comments_to_process <= 0:\n",
        "      print(\"Finishing...\\n\")\n",
        "      break\n",
        "    if comments_to_process <= 100:\n",
        "      total, pos, neg, neut = map(lambda x: x[0]+x[1], zip((total, pos, neg, neut), analyze_comments_page(username, repo, comments_to_process, page, print_comments, print_stage_results)))\n",
        "      print(\"Processed in total: \"+str(total)+\"/\"+str(temp)+\"\\n\")\n",
        "      break\n",
        "    else:\n",
        "      total, pos, neg, neut = map(lambda x: x[0]+x[1], zip((total, pos, neg, neut), analyze_comments_page(username, repo, 100, page, print_comments, print_stage_results)))\n",
        "      print(\"Currently processed: \"+str(total)+\"/\"+str(temp)+\"\\n\")\n",
        "      page += 1\n",
        "      comments_to_process -= 100\n",
        "  \n",
        "  return total, pos, neg, neut"
      ],
      "execution_count": null,
      "outputs": []
    },
    {
      "cell_type": "markdown",
      "metadata": {
        "id": "S7plVV-MY8CT"
      },
      "source": [
        "Analysis of 500 comments from Ubuntu's $microk8s$ repository."
      ]
    },
    {
      "cell_type": "code",
      "metadata": {
        "colab": {
          "base_uri": "https://localhost:8080/",
          "height": 1000
        },
        "id": "ouY0WwHGMSSW",
        "outputId": "30ac505a-07a8-4b05-e8f5-4b3eb288c43c"
      },
      "source": [
        "total, pos, neg, neut = analyze_comments(\"ubuntu\", \"microk8s\", 500, False, True)\n",
        "\n",
        "print('Total processed: '+str(total))\n",
        "print('Positive comments: '+str(pos))\n",
        "print('Negative comments: '+str(neg))\n",
        "print('Neutral comments: '+str(neut))\n",
        "\n",
        "maxc = max(pos, neg, neut)\n",
        "if maxc == neut:\n",
        "  print(\"Communication is mostly neutral.\")\n",
        "  print(\"In other cases:\")\n",
        "  maxc = max(pos, neg)\n",
        "if maxc == pos:\n",
        "  print(\"Communication is mostly positive.\\n\")\n",
        "else:\n",
        "  print(\"Communication is mostly negative. Some measures should be considered.\\n\")\n",
        "\n",
        "import matplotlib.pyplot as plt\n",
        "\n",
        "labels = 'Positive\\n'+str(pos), 'Negative\\n'+str(neg), 'Neutral\\n'+str(neut)\n",
        "sizes = [pos, neg, neut]\n",
        "explode = (0.025, 0.025, 0.025)\n",
        "\n",
        "fig1, ax1 = plt.subplots()\n",
        "ax1.pie(sizes, explode=explode, labels=labels, autopct='%1.1f%%',\n",
        "        shadow=True, startangle=90)\n",
        "ax1.axis('equal')  # Equal aspect ratio ensures that pie is drawn as a circle.\n",
        "\n",
        "plt.show()"
      ],
      "execution_count": null,
      "outputs": [
        {
          "output_type": "stream",
          "name": "stdout",
          "text": [
            "Processing page #1...\n",
            "\n",
            "Processed: 100\n",
            "Positive comments: 35\n",
            "Negative comments: 36\n",
            "Neutral comments: 29\n",
            "Currently processed: 100/500\n",
            "\n",
            "Processing page #2...\n",
            "\n",
            "Processed: 100\n",
            "Positive comments: 44\n",
            "Negative comments: 37\n",
            "Neutral comments: 19\n",
            "Currently processed: 200/500\n",
            "\n",
            "Processing page #3...\n",
            "\n",
            "Processed: 100\n",
            "Positive comments: 54\n",
            "Negative comments: 29\n",
            "Neutral comments: 17\n",
            "Currently processed: 300/500\n",
            "\n",
            "Processing page #4...\n",
            "\n",
            "Processed: 100\n",
            "Positive comments: 38\n",
            "Negative comments: 34\n",
            "Neutral comments: 28\n",
            "Currently processed: 400/500\n",
            "\n",
            "Processing page #5...\n",
            "\n",
            "Processed: 100\n",
            "Positive comments: 28\n",
            "Negative comments: 43\n",
            "Neutral comments: 29\n",
            "Processed in total: 500/500\n",
            "\n",
            "Total processed: 500\n",
            "Positive comments: 199\n",
            "Negative comments: 179\n",
            "Neutral comments: 122\n",
            "Communication is mostly positive.\n",
            "\n"
          ]
        },
        {
          "output_type": "display_data",
          "data": {
            "image/png": "[encoded data removed]",
            "text/plain": [
              "<Figure size 432x288 with 1 Axes>"
            ]
          },
          "metadata": {}
        }
      ]
    }
  ]
}